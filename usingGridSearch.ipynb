{
 "cells": [
  {
   "cell_type": "code",
   "execution_count": 1,
   "id": "21d17d0e",
   "metadata": {},
   "outputs": [
    {
     "name": "stderr",
     "output_type": "stream",
     "text": [
      "C:\\ProgramData\\Anaconda3\\lib\\site-packages\\sklearn\\preprocessing\\_encoders.py:868: FutureWarning: `sparse` was renamed to `sparse_output` in version 1.2 and will be removed in 1.4. `sparse_output` is ignored unless you leave `sparse` to its default value.\n",
      "  warnings.warn(\n"
     ]
    },
    {
     "name": "stdout",
     "output_type": "stream",
     "text": [
      "Fitting 3 folds for each of 216 candidates, totalling 648 fits\n"
     ]
    },
    {
     "name": "stderr",
     "output_type": "stream",
     "text": [
      "C:\\ProgramData\\Anaconda3\\lib\\site-packages\\sklearn\\ensemble\\_forest.py:413: FutureWarning: `max_features='auto'` has been deprecated in 1.1 and will be removed in 1.3. To keep the past behaviour, explicitly set `max_features=1.0` or remove this parameter as it is also the default value for RandomForestRegressors and ExtraTreesRegressors.\n",
      "  warn(\n"
     ]
    },
    {
     "name": "stdout",
     "output_type": "stream",
     "text": [
      "{'max_depth': None, 'max_features': 'auto', 'min_samples_leaf': 1, 'min_samples_split': 2, 'n_estimators': 300}\n",
      "(MAE) 6986.548452292622\n"
     ]
    }
   ],
   "source": [
    "import pandas as pd\n",
    "from sklearn.model_selection import train_test_split, GridSearchCV\n",
    "from sklearn.ensemble import RandomForestRegressor\n",
    "from sklearn.metrics import mean_absolute_error\n",
    "from sklearn.preprocessing import OneHotEncoder\n",
    "\n",
    "df = pd.read_csv('train.csv', encoding='cp949')\n",
    "\n",
    "df = df[df['jibun'] != '977']\n",
    "\n",
    "df['transaction_year'] = df['transaction_year_month'].apply(lambda x: int(str(x)[:4]))\n",
    "df['transaction_month'] = df['transaction_year_month'].apply(lambda x: int(str(x)[4:]))\n",
    "df = df.drop(columns=['transaction_year_month'])\n",
    "\n",
    "df['sigungu'] = df['sigungu'].astype(str)\n",
    "df['jibun'] = df['jibun'].astype(str)\n",
    "df['apt_name'] = df['apt_name'].astype(str)\n",
    "\n",
    "ohe = OneHotEncoder(handle_unknown='ignore', sparse=False)\n",
    "df_encoded = pd.DataFrame(ohe.fit_transform(df[['sigungu', 'jibun', 'apt_name']]))\n",
    "df_encoded.index = df.index\n",
    "df_num = df.drop(['sigungu', 'jibun', 'apt_name'], axis=1)\n",
    "df = pd.concat([df_num, df_encoded], axis=1)\n",
    "\n",
    "df.columns = df.columns.astype(str)\n",
    "\n",
    "X = df.drop(columns=['id', 'transaction_real_price'])\n",
    "y = df['transaction_real_price']\n",
    "X_train, X_valid, y_train, y_valid = train_test_split(X, y, test_size=0.2, random_state=0)\n",
    "\n",
    "param_grid = {\n",
    "    'n_estimators': [100, 200, 300],\n",
    "    'max_features': ['auto', 'sqrt'],\n",
    "    'max_depth': [10, 20, 30, None],\n",
    "    'min_samples_split': [2, 5, 10],\n",
    "    'min_samples_leaf': [1, 2, 4]\n",
    "}\n",
    "\n",
    "grid_search = GridSearchCV(estimator=RandomForestRegressor(random_state=0), param_grid=param_grid, cv=3, n_jobs=-1, verbose=2)\n",
    "\n",
    "grid_search.fit(X_train, y_train)\n",
    "\n",
    "print(grid_search.best_params_)\n",
    "\n",
    "best_model = grid_search.best_estimator_\n",
    "\n",
    "preds_valid = best_model.predict(X_valid)\n",
    "\n",
    "mae = mean_absolute_error(y_valid, preds_valid)\n",
    "print(\"(MAE)\", mae)\n",
    "\n",
    "test_df = pd.read_csv('test.csv', encoding='cp949')\n",
    "\n",
    "test_df = test_df[test_df['jibun'] != '977']\n",
    "\n",
    "test_df['transaction_year'] = test_df['transaction_year_month'].apply(lambda x: int(str(x)[:4]))\n",
    "test_df['transaction_month'] = test_df['transaction_year_month'].apply(lambda x: int(str(x)[4:]))\n",
    "test_df = test_df.drop(columns=['transaction_year_month'])\n",
    "\n",
    "test_df['sigungu'] = test_df['sigungu'].astype(str)\n",
    "test_df['jibun'] = test_df['jibun'].astype(str)\n",
    "test_df['apt_name'] = test_df['apt_name'].astype(str)\n",
    "\n",
    "test_df_encoded = pd.DataFrame(ohe.transform(test_df[['sigungu', 'jibun', 'apt_name']]))\n",
    "test_df_encoded.index = test_df.index\n",
    "test_df_num = test_df.drop(['sigungu', 'jibun', 'apt_name'], axis=1)\n",
    "test_df = pd.concat([test_df_num, test_df_encoded], axis=1)\n",
    "\n",
    "test_df.columns = test_df.columns.astype(str)\n",
    "\n",
    "X_test = test_df.drop(columns=['id'])\n",
    "preds_test = best_model.predict(X_test)\n",
    "\n",
    "#submission_df = pd.DataFrame({'id': test_df['id'], 'transaction_real_price': preds_test})\n",
    "#submission_df.to_csv('submission.csv', index=False)\n"
   ]
  },
  {
   "cell_type": "code",
   "execution_count": null,
   "id": "c5bd9471",
   "metadata": {},
   "outputs": [],
   "source": []
  }
 ],
 "metadata": {
  "kernelspec": {
   "display_name": "Python 3",
   "language": "python",
   "name": "python3"
  },
  "language_info": {
   "codemirror_mode": {
    "name": "ipython",
    "version": 3
   },
   "file_extension": ".py",
   "mimetype": "text/x-python",
   "name": "python",
   "nbconvert_exporter": "python",
   "pygments_lexer": "ipython3",
   "version": "3.8.8"
  }
 },
 "nbformat": 4,
 "nbformat_minor": 5
}
