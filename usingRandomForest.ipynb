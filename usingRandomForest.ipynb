{
 "cells": [
  {
   "cell_type": "code",
   "execution_count": 29,
   "id": "0aa783f3",
   "metadata": {},
   "outputs": [
    {
     "name": "stderr",
     "output_type": "stream",
     "text": [
      "C:\\ProgramData\\Anaconda3\\lib\\site-packages\\sklearn\\preprocessing\\_encoders.py:868: FutureWarning: `sparse` was renamed to `sparse_output` in version 1.2 and will be removed in 1.4. `sparse_output` is ignored unless you leave `sparse` to its default value.\n",
      "  warnings.warn(\n"
     ]
    },
    {
     "name": "stdout",
     "output_type": "stream",
     "text": [
      "(MAE) 7096.193902535973\n"
     ]
    }
   ],
   "source": [
    "import pandas as pd\n",
    "from sklearn.model_selection import train_test_split\n",
    "from sklearn.ensemble import RandomForestRegressor\n",
    "from sklearn.metrics import mean_absolute_error\n",
    "from sklearn.preprocessing import OneHotEncoder\n",
    "\n",
    "df = pd.read_csv('train.csv', encoding='cp949')\n",
    "\n",
    "df['transaction_year'] = df['transaction_year_month'].apply(lambda x: int(str(x)[:4]))\n",
    "df['transaction_month'] = df['transaction_year_month'].apply(lambda x: int(str(x)[4:]))\n",
    "df = df.drop(columns=['transaction_year_month'])\n",
    "\n",
    "df['sigungu'] = df['sigungu'].astype(str)\n",
    "df['jibun'] = df['jibun'].astype(str)\n",
    "df['apt_name'] = df['apt_name'].astype(str)\n",
    "\n",
    "ohe = OneHotEncoder(handle_unknown='ignore', sparse=False)\n",
    "df_encoded = pd.DataFrame(ohe.fit_transform(df[['sigungu', 'jibun', 'apt_name']]))\n",
    "df_encoded.index = df.index\n",
    "df_num = df.drop(['sigungu', 'jibun', 'apt_name'], axis=1)\n",
    "df = pd.concat([df_num, df_encoded], axis=1)\n",
    "\n",
    "df.columns = df.columns.astype(str)\n",
    "\n",
    "X = df.drop(columns=['id', 'transaction_real_price'])\n",
    "y = df['transaction_real_price']\n",
    "X_train, X_valid, y_train, y_valid = train_test_split(X, y, test_size=0.2, random_state=0)\n",
    "\n",
    "model = RandomForestRegressor(random_state=0)\n",
    "model.fit(X_train, y_train)\n",
    "\n",
    "#--------------------------------------------------------------#\n",
    "\n",
    "test_df = pd.read_csv('test.csv', encoding='cp949')\n",
    "\n",
    "test_df = test_df[test_df['jibun'] != '977']\n",
    "\n",
    "test_df['transaction_year'] = test_df['transaction_year_month'].apply(lambda x: int(str(x)[:4]))\n",
    "test_df['transaction_month'] = test_df['transaction_year_month'].apply(lambda x: int(str(x)[4:]))\n",
    "test_df = test_df.drop(columns=['transaction_year_month'])\n",
    "\n",
    "test_df['sigungu'] = test_df['sigungu'].astype(str)\n",
    "test_df['jibun'] = test_df['jibun'].astype(str)\n",
    "test_df['apt_name'] = test_df['apt_name'].astype(str)\n",
    "\n",
    "test_df_encoded = pd.DataFrame(ohe.transform(test_df[['sigungu', 'jibun', 'apt_name']]))\n",
    "test_df_encoded.index = test_df.index\n",
    "test_df_num = test_df.drop(['sigungu', 'jibun', 'apt_name'], axis=1)\n",
    "test_df = pd.concat([test_df_num, test_df_encoded], axis=1)\n",
    "\n",
    "test_df.columns = test_df.columns.astype(str)\n",
    "\n",
    "X_test = test_df.drop(columns=['id'])\n",
    "preds_test = model.predict(X_test)\n",
    "\n",
    "mae = mean_absolute_error(y_valid, preds_valid)\n",
    "print(\"(MAE)\", mae)\n",
    "\n",
    "\n",
    "#submission_df = pd.DataFrame({'id': test_df['id'], 'transaction_real_price': preds_test})\n",
    "#submission_df.to_csv('submission.csv', index=False)\n"
   ]
  },
  {
   "cell_type": "code",
   "execution_count": 31,
   "id": "0199bf33",
   "metadata": {},
   "outputs": [
    {
     "data": {
      "text/plain": [
       "Text(0, 0.5, 'Frequency')"
      ]
     },
     "execution_count": 31,
     "metadata": {},
     "output_type": "execute_result"
    },
    {
     "data": {
      "image/png": "[encoded data removed]",
      "text/plain": [
       "<Figure size 864x432 with 1 Axes>"
      ]
     },
     "metadata": {
      "needs_background": "light"
     },
     "output_type": "display_data"
    }
   ],
   "source": [
    "import seaborn as sns\n",
    "import matplotlib.pyplot as plt\n",
    "\n",
    "preds_valid = model.predict(X_valid)\n",
    "\n",
    "residuals = y_valid - preds_valid\n",
    "\n",
    "plt.figure(figsize=(12,6))\n",
    "sns.histplot(residuals, bins=50, kde=True)\n",
    "plt.title('Model residuals')\n",
    "plt.xlabel('residuals')\n",
    "plt.ylabel('Frequency')"
   ]
  },
  {
   "cell_type": "code",
   "execution_count": null,
   "id": "096acce5",
   "metadata": {},
   "outputs": [],
   "source": []
  }
 ],
 "metadata": {
  "kernelspec": {
   "display_name": "Python 3",
   "language": "python",
   "name": "python3"
  },
  "language_info": {
   "codemirror_mode": {
    "name": "ipython",
    "version": 3
   },
   "file_extension": ".py",
   "mimetype": "text/x-python",
   "name": "python",
   "nbconvert_exporter": "python",
   "pygments_lexer": "ipython3",
   "version": "3.8.8"
  }
 },
 "nbformat": 4,
 "nbformat_minor": 5
}
